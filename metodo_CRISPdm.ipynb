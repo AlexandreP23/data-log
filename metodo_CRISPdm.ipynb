{
  "nbformat": 4,
  "nbformat_minor": 0,
  "metadata": {
    "colab": {
      "provenance": []
    },
    "kernelspec": {
      "name": "python3",
      "display_name": "Python 3"
    },
    "language_info": {
      "name": "python"
    }
  },
  "cells": [
    {
      "cell_type": "code",
      "execution_count": null,
      "metadata": {
        "id": "vPJu2UuyVbwS"
      },
      "outputs": [],
      "source": [
        "# Agregação natural = Semelhança\n",
        "# Heurística = Descoberta\n",
        "# Clustering = Agrupamento"
      ]
    },
    {
      "cell_type": "code",
      "source": [
        "# KDD\n",
        "# CRISP-DM (apoio ao KDD) - Cross Industry Standard Process for Data Mining\n",
        "# -> Compreensão do negócio\n",
        "# -> Compresão dos dados\n",
        "# -> Preparação dos dados\n",
        "# -> Modelagem\n",
        "# -> Avaliação\n",
        "# -> Desenvolvimento"
      ],
      "metadata": {
        "id": "zJ9rbeC3lU6r"
      },
      "execution_count": null,
      "outputs": []
    },
    {
      "cell_type": "markdown",
      "source": [
        "### Compreensão do negócio\n",
        "Tipo: MarketPlace\n",
        "\n",
        "Exemplo: Empresa de Varejo Online\n",
        "\n",
        "Objetivo de Negócio: Aumentar as vendas através da personalização das ofertas e campanhas de marketing.\n",
        "\n",
        "Questões:\n",
        "Quais produtos são mais comprados juntos?\n",
        "Quais clientes têm maior probabilidade de comprar novamente?\n",
        "Quais produtos têm maior margem de lucro?"
      ],
      "metadata": {
        "id": "ZQiZ0FVU8RCH"
      }
    },
    {
      "cell_type": "markdown",
      "source": [
        "### Compreensão dos dados\n",
        "\n",
        "Exemplo: Dados Históricos de Transações\n",
        "\n",
        "Conjunto de Dados:\n",
        "Clientes: cliente_id, nome, idade, gênero, localização\n",
        "\n",
        "Produtos: produto_id, nome, categoria, preço, custo\n",
        "\n",
        "Transações: transacao_id, cliente_id, produto_id, data_compra, quantidade, valor_total\n",
        "\n",
        "Análise Inicial:\n",
        "\n",
        "Verifique a distribuição de idade dos clientes.\n",
        "\n",
        "Identifique as categorias de produtos mais populares.\n",
        "\n",
        "Calcule o ticket médio por cliente."
      ],
      "metadata": {
        "id": "4OWb3LD08qEW"
      }
    },
    {
      "cell_type": "markdown",
      "source": [
        "### Preparação dos dados\n",
        "\n",
        "Exemplo: Limpeza e Transformação\n",
        "\n",
        "Passos:\n",
        "\n",
        "Limpeza: Remover duplicatas e lidar com valores ausentes.\n",
        "\n",
        "Transformação:\n",
        "\n",
        "Normalizar os preços dos produtos.\n",
        "\n",
        "Criar variáveis como margem_lucro (diferença entre preço e custo).\n",
        "\n",
        "Criar uma variável data_mês a partir de data_compra."
      ],
      "metadata": {
        "id": "ZCTRTS_U_Uqb"
      }
    },
    {
      "cell_type": "code",
      "source": [
        "import pandas as pd\n",
        "\n",
        "clientes = pd.DataFrame({\n",
        "    'cliente_id': [1, 2, 3],\n",
        "    'nome': ['Alice', 'Bob', 'Carol'],\n",
        "    'idade': [25, 30, 35],\n",
        "    'gênero': ['F', 'M', 'F'],\n",
        "    'localização': ['SP', 'RJ', 'MG']\n",
        "})\n",
        "\n",
        "produtos = pd.DataFrame({\n",
        "    'produto_id': [101, 102, 103],\n",
        "    'nome': ['Produto A', 'Produto B', 'Produto C'],\n",
        "    'categoria': ['Eletrônicos', 'Livros', 'Roupas'],\n",
        "    'preço': [200, 30, 50],\n",
        "    'custo': [150, 20, 30]\n",
        "})\n",
        "\n",
        "transacoes = pd.DataFrame({\n",
        "    'transacao_id': [1001, 1002, 1003],\n",
        "    'cliente_id': [1, 2, 1],\n",
        "    'produto_id': [101, 102, 103],\n",
        "    'data_compra': ['2023-01-01', '2023-02-15', '2023-03-05'],\n",
        "    'quantidade': [1, 2, 1],\n",
        "    'valor_total': [200, 60, 50]\n",
        "})\n",
        "\n",
        "\n",
        "produtos['margem_lucro'] = produtos['preço'] - produtos['custo']\n",
        "\n",
        "print(clientes)\n",
        "print(produtos)\n",
        "print(transacoes)\n"
      ],
      "metadata": {
        "colab": {
          "base_uri": "https://localhost:8080/"
        },
        "id": "TVsvAiroUJnu",
        "outputId": "23694b2c-6b22-409b-abe6-6bef3e3c5c0f"
      },
      "execution_count": null,
      "outputs": [
        {
          "output_type": "stream",
          "name": "stdout",
          "text": [
            "   cliente_id   nome  idade gênero localização\n",
            "0           1  Alice     25      F          SP\n",
            "1           2    Bob     30      M          RJ\n",
            "2           3  Carol     35      F          MG\n",
            "   produto_id       nome    categoria  preço  custo  margem_lucro\n",
            "0         101  Produto A  Eletrônicos    200    150            50\n",
            "1         102  Produto B       Livros     30     20            10\n",
            "2         103  Produto C       Roupas     50     30            20\n",
            "   transacao_id  cliente_id  produto_id data_compra  quantidade  valor_total\n",
            "0          1001           1         101  2023-01-01           1          200\n",
            "1          1002           2         102  2023-02-15           2           60\n",
            "2          1003           1         103  2023-03-05           1           50\n"
          ]
        }
      ]
    },
    {
      "cell_type": "markdown",
      "source": [
        "### Modelagem\n",
        "Exemplo: Clusterização de Clientes\n",
        "\n",
        "Técnica: K-means Clustering\n",
        "\n",
        "Objetivo: Agrupar clientes com comportamentos de compra similares para personalizar campanhas."
      ],
      "metadata": {
        "id": "kjxxdFOZUnpJ"
      }
    },
    {
      "cell_type": "code",
      "source": [
        "from sklearn.cluster import KMeans\n",
        "\n",
        "X = clientes[['idade']]\n",
        "\n",
        "kmeans = KMeans(n_clusters=2, random_state=42).fit(X)\n",
        "clientes['cluster'] = kmeans.labels_\n",
        "\n",
        "print(clientes)\n"
      ],
      "metadata": {
        "colab": {
          "base_uri": "https://localhost:8080/"
        },
        "id": "AeJgc3ObU2xL",
        "outputId": "7fb9fa48-ab05-4d4f-f9ff-46529e08746d"
      },
      "execution_count": null,
      "outputs": [
        {
          "output_type": "stream",
          "name": "stderr",
          "text": [
            "/usr/local/lib/python3.10/dist-packages/sklearn/cluster/_kmeans.py:870: FutureWarning: The default value of `n_init` will change from 10 to 'auto' in 1.4. Set the value of `n_init` explicitly to suppress the warning\n",
            "  warnings.warn(\n"
          ]
        },
        {
          "output_type": "stream",
          "name": "stdout",
          "text": [
            "   cliente_id   nome  idade gênero localização  cluster\n",
            "0           1  Alice     25      F          SP        1\n",
            "1           2    Bob     30      M          RJ        0\n",
            "2           3  Carol     35      F          MG        0\n"
          ]
        }
      ]
    },
    {
      "cell_type": "markdown",
      "source": [
        "### Avaliação\n",
        "Exemplo: Avaliação do Modelo de Classificação\n",
        "\n",
        "Técnica: Matriz de Confusão\n",
        "\n",
        "Objetivo: Avaliar a precisão de um modelo preditivo."
      ],
      "metadata": {
        "id": "iaecYybuVnU9"
      }
    },
    {
      "cell_type": "code",
      "source": [
        "from sklearn.metrics import confusion_matrix\n",
        "\n",
        "y_true = [1, 0, 1]\n",
        "y_pred = [1, 0, 0]\n",
        "\n",
        "cm = confusion_matrix(y_true, y_pred)\n",
        "\n",
        "print(cm)\n"
      ],
      "metadata": {
        "colab": {
          "base_uri": "https://localhost:8080/"
        },
        "id": "nCKPEI8WVo-K",
        "outputId": "b32c4ea3-c3cc-4fd9-a77a-392e958abd90"
      },
      "execution_count": null,
      "outputs": [
        {
          "output_type": "stream",
          "name": "stdout",
          "text": [
            "[[1 0]\n",
            " [1 1]]\n"
          ]
        }
      ]
    },
    {
      "cell_type": "markdown",
      "source": [
        "### Desenvolvimento\n",
        "Exemplo: Implementação do Modelo\n",
        "\n",
        "Passos:\n",
        "\n",
        "Implementar o modelo de clusterização no sistema de recomendação.\n",
        "Personalizar as ofertas e campanhas para cada grupo de clientes."
      ],
      "metadata": {
        "id": "IYOTEjcMV290"
      }
    },
    {
      "cell_type": "code",
      "source": [
        "def recomendar_produtos(cliente_id):\n",
        "    cluster = clientes.loc[clientes['cliente_id'] == cliente_id, 'cluster'].values[0]\n",
        "    if cluster == 0:\n",
        "        return ['Produto A', 'Produto B']\n",
        "    else:\n",
        "        return ['Produto C']\n",
        "\n",
        "\n",
        "print(recomendar_produtos(1))\n"
      ],
      "metadata": {
        "colab": {
          "base_uri": "https://localhost:8080/"
        },
        "id": "WSke_ndGV_VJ",
        "outputId": "0e8b8eb7-f90c-44d4-fccd-bf03a0a5bb42"
      },
      "execution_count": null,
      "outputs": [
        {
          "output_type": "stream",
          "name": "stdout",
          "text": [
            "['Produto C']\n"
          ]
        }
      ]
    },
    {
      "cell_type": "code",
      "source": [
        "import seaborn as sns\n",
        "import matplotlib.pyplot as plt\n",
        "\n",
        "plt.figure(figsize=(10, 6))\n",
        "sns.scatterplot(data=clientes, x='idade', y='cliente_id', hue='cluster', palette='viridis', s=100)\n",
        "plt.title('Clusters de Clientes por Idade')\n",
        "plt.xlabel('Idade')\n",
        "plt.ylabel('Cliente ID')\n",
        "plt.show()\n"
      ],
      "metadata": {
        "colab": {
          "base_uri": "https://localhost:8080/",
          "height": 564
        },
        "id": "DoG-OPWfX0A-",
        "outputId": "5c987cab-06f5-4b30-ac66-d80bee42b60f"
      },
      "execution_count": null,
      "outputs": [
        {
          "output_type": "display_data",
          "data": {
            "text/plain": [
              "<Figure size 1000x600 with 1 Axes>"
            ],
            "image/png": "[encoded data removed]"
          },
          "metadata": {}
        }
      ]
    }
  ]
}